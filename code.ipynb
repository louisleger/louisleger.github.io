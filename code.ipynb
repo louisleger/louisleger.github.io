{
 "cells": [
  {
   "cell_type": "code",
   "execution_count": 5,
   "metadata": {},
   "outputs": [
    {
     "data": {
      "text/plain": [
       "[1, 2, 2, 3, 5, 6]"
      ]
     },
     "execution_count": 5,
     "metadata": {},
     "output_type": "execute_result"
    }
   ],
   "source": [
    "def merge(nums1, m, nums2, n):\n",
    "    \"\"\"\n",
    "    Do not return anything, modify nums1 in-place instead.\n",
    "    \"\"\"\n",
    "    nums = nums1[:m] + nums2\n",
    "    for idx in range(m+n):\n",
    "        for jdx in range(idx + 1, m+n):\n",
    "            if (nums[idx] > nums[jdx]):\n",
    "                temp = nums[idx]\n",
    "                nums[idx] = nums[jdx]\n",
    "                nums[jdx] = temp\n",
    "    nums1 = nums\n",
    "    return nums1\n",
    "\n",
    "nums1, m, nums2, n = ([1,2,3,0,0,0], 3, [2,5,6], 3)\n",
    "merge(nums1, m, nums2, n)\n"
   ]
  },
  {
   "cell_type": "code",
   "execution_count": 21,
   "metadata": {},
   "outputs": [
    {
     "data": {
      "text/plain": [
       "([1, 4, 0, 2, 2, 3, 3, 0], 2)"
      ]
     },
     "execution_count": 21,
     "metadata": {},
     "output_type": "execute_result"
    }
   ],
   "source": [
    "nums = [0,0,1,2,2,3,3,4]\n",
    "k = 0\n",
    "first_unique_idx = 0\n",
    "i = 0\n",
    "old_number = 0\n",
    "while (i < len(nums)):\n",
    "    \n",
    "            \n",
    "    if (old_number < nums[i]):\n",
    "        k+=1\n",
    "        old_number = nums[i]\n",
    "\n",
    "    interest = nums[i]\n",
    "    count = 1\n",
    "    while (count > 0):\n",
    "        if (i+count < len(nums)):\n",
    "            if (nums[i + count] == interest):\n",
    "                count+=1\n",
    "            else:\n",
    "                break\n",
    "            \n",
    "        else:\n",
    "            break\n",
    "        \n",
    "    \n",
    "    if (count == 1):\n",
    "\n",
    "        k+=1\n",
    "        temp = nums[first_unique_idx]\n",
    "        nums[first_unique_idx] = nums[i]\n",
    "        nums[i] = temp\n",
    "\n",
    "        first_unique_idx += 1\n",
    "    \n",
    "    i += count\n",
    "\n",
    "\n",
    "nums, k"
   ]
  },
  {
   "cell_type": "markdown",
   "metadata": {},
   "source": [
    "function removeDuplicates(nums: number[]): number {\n",
    "\n",
    "    let k = 0;\n",
    "    let first_unique_idx = 0;\n",
    "    let i = 0;\n",
    "    while (i < nums.length) {\n",
    "        \n",
    "        let interest = nums[i];\n",
    "        let count = 1;\n",
    "        while (count > 0) {\n",
    "            if (i+count < nums.length) {\n",
    "                if (nums[i + count] == interest) {\n",
    "                    count++;\n",
    "                } else {\n",
    "                    break;\n",
    "                }\n",
    "            } else {\n",
    "                break;\n",
    "            }\n",
    "        }\n",
    "        if (count == 1) {\n",
    "\n",
    "            k++;\n",
    "\n",
    "            let temp = nums[first_unique_idx];\n",
    "            nums[first_unique_idx] = nums[i];\n",
    "            nums[i] = temp;\n",
    "\n",
    "            first_unique_idx += 1;\n",
    "        } \n",
    "        i += count;\n",
    "    }\n",
    "\n",
    "    return k;\n",
    "};"
   ]
  }
 ],
 "metadata": {
  "kernelspec": {
   "display_name": "Python 3",
   "language": "python",
   "name": "python3"
  },
  "language_info": {
   "codemirror_mode": {
    "name": "ipython",
    "version": 3
   },
   "file_extension": ".py",
   "mimetype": "text/x-python",
   "name": "python",
   "nbconvert_exporter": "python",
   "pygments_lexer": "ipython3",
   "version": "3.9.6"
  }
 },
 "nbformat": 4,
 "nbformat_minor": 2
}
